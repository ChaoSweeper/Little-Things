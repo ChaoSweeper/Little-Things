{
    "cells": [
        {
            "cell_type": "code",
            "execution_count": 1,
            "metadata": {},
            "outputs": [],
            "source": [
                "from random import randint\n",
                "import matplotlib.pyplot as plt"
            ]
        },
        {
            "cell_type": "code",
            "execution_count": 6,
            "metadata": {},
            "outputs": [],
            "source": [
                "x = randint(0,10000)\n",
                "num = list()\n",
                "\n",
                "while x != 1:\n",
                "    if x % 2 == 0:\n",
                "        x = x//2\n",
                "    else:\n",
                "        x = (x * 3) + 1\n",
                "    num.append(x)"
            ]
        },
        {
            "cell_type": "code",
            "execution_count": 7,
            "metadata": {},
            "outputs": [
                {
                    "name": "stdout",
                    "output_type": "stream",
                    "text": [
                        "[19666, 9833, 29500, 14750, 7375, 22126, 11063, 33190, 16595, 49786, 24893, 74680, 37340, 18670, 9335, 28006, 14003, 42010, 21005, 63016, 31508, 15754, 7877, 23632, 11816, 5908, 2954, 1477, 4432, 2216, 1108, 554, 277, 832, 416, 208, 104, 52, 26, 13, 40, 20, 10, 5, 16, 8, 4, 2, 1]\n"
                    ]
                }
            ],
            "source": [
                "print(num)"
            ]
        },
        {
            "cell_type": "code",
            "execution_count": 8,
            "metadata": {},
            "outputs": [
                {
                    "name": "stdout",
                    "output_type": "stream",
                    "text": [
                        "Maximum Number: 74680 \n",
                        "Minimum Number: 1\n"
                    ]
                }
            ],
            "source": [
                "print('Maximum Number:', max(num), '\\nMinimum Number:', min(num))"
            ]
        },
        {
            "cell_type": "code",
            "execution_count": 9,
            "metadata": {},
            "outputs": [
                {
                    "data": {
                        "text/plain": [
                            "[<matplotlib.lines.Line2D at 0x2aec72bca48>]"
                        ]
                    },
                    "execution_count": 9,
                    "metadata": {},
                    "output_type": "execute_result"
                },
                {
                    "data": {
                        "image/png": "[encoded data removed]",
                        "text/plain": [
                            "<Figure size 432x288 with 1 Axes>"
                        ]
                    },
                    "metadata": {
                        "needs_background": "light"
                    },
                    "output_type": "display_data"
                }
            ],
            "source": [
                "plt.plot(num)"
            ]
        },
        {
            "cell_type": "code",
            "execution_count": null,
            "metadata": {},
            "outputs": [],
            "source": []
        },
        {
            "cell_type": "code",
            "execution_count": null,
            "metadata": {},
            "outputs": [],
            "source": []
        }
    ],
    "metadata": {
        "interpreter": {
            "hash": "d2885c27dfbe0f06ff7cacf21236608869eeb9871d66bb9e308c95c2f47a444c"
        },
        "kernelspec": {
            "display_name": "Python 3.7.11 64-bit ('VSCode_env': conda)",
            "name": "python3"
        },
        "language_info": {
            "codemirror_mode": {
                "name": "ipython",
                "version": 3
            },
            "file_extension": ".py",
            "mimetype": "text/x-python",
            "name": "python",
            "nbconvert_exporter": "python",
            "pygments_lexer": "ipython3",
            "version": "3.7.11"
        },
        "orig_nbformat": 4
    },
    "nbformat": 4,
    "nbformat_minor": 2
}
