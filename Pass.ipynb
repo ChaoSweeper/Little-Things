{
    "cells": [
        {
            "cell_type": "code",
            "execution_count": 1,
            "source": [
                "# first we will import the subprocess module\r\n",
                "import subprocess\r\n",
                "\r\n",
                "# now we will store the profiles data in \"data\" variable by\r\n",
                "# running the 1st cmd command using subprocess.check_output\r\n",
                "data = (\r\n",
                "    subprocess.check_output([\"netsh\", \"wlan\", \"show\", \"profiles\"])\r\n",
                "    .decode(\"utf-8\")\r\n",
                "    .split(\"\\n\")\r\n",
                ")\r\n",
                "\r\n",
                "# now we will store the profile by converting them to list\r\n",
                "profiles = [i.split(\":\")[1][1:-1] for i in data if \"All User Profile\" in i]\r\n",
                "\r\n",
                "# using for loop in python we are checking and printing the wifi\r\n",
                "# passwords if they are available using the 2nd cmd command\r\n",
                "for i in profiles:\r\n",
                "    # running the 2nd cmd command to check passwords\r\n",
                "    results = (\r\n",
                "        subprocess.check_output([\"netsh\", \"wlan\", \"show\", \"profile\", i, \"key=clear\"])\r\n",
                "        .decode(\"utf-8\")\r\n",
                "        .split(\"\\n\")\r\n",
                "    )\r\n",
                "    # storing passwords after converting them to list\r\n",
                "    results = [b.split(\":\")[1][1:-1] for b in results if \"Key Content\" in b]\r\n",
                "    # printing the profiles(wifi name) with their passwords using\r\n",
                "    # try and except method\r\n",
                "    try:\r\n",
                "        print(\"{:<30}|  {:<}\".format(i, results[0]))\r\n",
                "    except IndexError:\r\n",
                "        print(\"{:<30}|  {:<}\".format(i, \"\"))"
            ],
            "outputs": [
                {
                    "output_type": "stream",
                    "name": "stdout",
                    "text": [
                        "ATTJtftYDS                    |  dd3aez8%fhvh\n",
                        "eduroam                       |  \n",
                        "ATT98hjFYs_5G                 |  7r7a48y5vc5y\n",
                        "ATTCryRg8s_5G                 |  v4nam=riz566\n"
                    ]
                }
            ],
            "metadata": {}
        }
    ],
    "metadata": {
        "orig_nbformat": 4,
        "language_info": {
            "name": "python",
            "version": "3.7.11",
            "mimetype": "text/x-python",
            "codemirror_mode": {
                "name": "ipython",
                "version": 3
            },
            "pygments_lexer": "ipython3",
            "nbconvert_exporter": "python",
            "file_extension": ".py"
        },
        "kernelspec": {
            "name": "python3",
            "display_name": "Python 3.7.11 64-bit ('VSCode_env': conda)"
        },
        "interpreter": {
            "hash": "d2885c27dfbe0f06ff7cacf21236608869eeb9871d66bb9e308c95c2f47a444c"
        }
    },
    "nbformat": 4,
    "nbformat_minor": 2
}